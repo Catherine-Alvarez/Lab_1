{
 "cells": [
  {
   "cell_type": "markdown",
   "id": "feb7eb86-a33e-46ea-80f4-02f9ef63b60f",
   "metadata": {},
   "source": [
    "# Laboratorio 1"
   ]
  },
  {
   "cell_type": "markdown",
   "id": "2ae0b4f9-58b4-4cf9-b34f-4847ed20652c",
   "metadata": {},
   "source": [
    "## ¿Qué es git?"
   ]
  },
  {
   "cell_type": "markdown",
   "id": "c636cbc9-bdd3-4079-865c-ab6f2db0217e",
   "metadata": {},
   "source": [
    "##### Es un sistema de control de versiones distribuido, diseñado principalmente para manejar proyectos de software, pero que también puede ser utilizado para cualquier tipo de archivos.\n",
    "\n",
    "##### Funciona registrando los cambios en archivos a lo largo del tiempo, permitiendo recuperar versiones específicas más adelante si es necesario. Esto es especialmente útil cuando múltiples personas colaboran en un proyecto, ya que Git facilita la coordinación y la gestión de cambios.\n",
    "\n",
    "##### Con Git, puedes realizar un seguimiento de las modificaciones realizadas en tus archivos, crear ramas para trabajar en nuevas funcionalidades o correcciones de errores sin afectar la rama principal del proyecto, fusionar cambios de diferentes ramas, entre otras funcionalidades.\n"
   ]
  },
  {
   "cell_type": "markdown",
   "id": "1694014c-977b-4c3f-be3d-9ffe2f76dc4e",
   "metadata": {},
   "source": [
    "## ¿Qué es github?"
   ]
  },
  {
   "cell_type": "markdown",
   "id": "b038733f-0338-48d3-80b9-a9d752a239d9",
   "metadata": {},
   "source": [
    "##### Es una plataforma de alojamiento de código que utiliza Git como sistema de control de versiones. Permite a los desarrolladores almacenar y gestionar repositorios Git de manera remota a través de una interfaz web.\n",
    "\n",
    "##### Además de ser un lugar para almacenar y colaborar en proyectos de software utilizando Git, GitHub ofrece herramientas adicionales como seguimiento de problemas, gestión de proyectos, integración continua, y mucho más."
   ]
  },
  {
   "cell_type": "markdown",
   "id": "3ecee570-3227-4991-85b4-5ce123beee5f",
   "metadata": {
    "tags": []
   },
   "source": [
    "## ¿Qué es MagicCells?"
   ]
  },
  {
   "cell_type": "markdown",
   "id": "a183b0a2-5860-41e3-8fd3-9c4cb2e1175d",
   "metadata": {},
   "source": [
    "##### Es una característica específica de Jupyter Notebooks, que son un tipo de documento interactivo que permite combinar código ejecutable, texto explicativo, visualizaciones y otros elementos en un solo archivo.\n",
    "\n",
    "##### En Jupyter Notebooks, las MagicCells son secuencias especiales de comandos que modifican el comportamiento de las celdas de código. Estos comandos se prefijan con el símbolo \"%\" o \"%%\" en una celda de código y pueden realizar diversas tareas, como cambiar el entorno de ejecución, activar extensiones o configurar opciones específicas.\n",
    "\n",
    "##### Por ejemplo, %matplotlib inline es una MagicCell comúnmente utilizada en notebooks de Python con el kernel de IPython, que indica que las gráficas generadas con la biblioteca Matplotlib deben mostrarse directamente en el notebook.\n"
   ]
  },
  {
   "cell_type": "markdown",
   "id": "6fe9c38d-d2c4-4ffd-8bf6-7c3dc00ad334",
   "metadata": {},
   "source": [
    "### Conclusiones"
   ]
  },
  {
   "cell_type": "markdown",
   "id": "cf9714eb-d72d-4e8d-84d3-2209cc51921f",
   "metadata": {},
   "source": [
    "##### Git es el sistema de control de versiones, mientras que GitHub es una plataforma en línea que utiliza Git para alojar repositorios de código y proporciona herramientas colaborativas para trabajar en esos repositorios de manera eficiente.\n",
    "\n",
    "##### Las MagicCells ofrecen flexibilidad y permiten personalizar y optimizar la experiencia de programación en Jupyter Notebooks según las necesidades específicas del usuario."
   ]
  },
  {
   "cell_type": "markdown",
   "id": "e406580e-074f-4a82-b156-fbc786737b09",
   "metadata": {},
   "source": [
    "###### By: Catherine Alvarez"
   ]
  }
 ],
 "metadata": {
  "kernelspec": {
   "display_name": "Python 3 (ipykernel)",
   "language": "python",
   "name": "python3"
  },
  "language_info": {
   "codemirror_mode": {
    "name": "ipython",
    "version": 3
   },
   "file_extension": ".py",
   "mimetype": "text/x-python",
   "name": "python",
   "nbconvert_exporter": "python",
   "pygments_lexer": "ipython3",
   "version": "3.11.5"
  }
 },
 "nbformat": 4,
 "nbformat_minor": 5
}
